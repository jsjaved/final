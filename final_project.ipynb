{
 "cells": [
  {
   "cell_type": "markdown",
   "metadata": {},
   "source": [
    "#          Random Forest Model on Bank Marketing Data Set\n",
    "Author: Javed Shaik\n",
    "\n",
    "The Dataset examined for this study is a Bank Marketing Data Set which can be downloaded at \n",
    "\n",
    "<https://archive.ics.uci.edu/ml/datasets/Bank+Marketing>\n",
    "\n",
    "## Information:\n",
    "This dataset comes from marketing campaigns of a Portuguese banking institution. The marketing campaigns were based on phone calls.\n",
    "\n",
    "\n",
    "This Model looks at the attributes listed below to predict whether a bank client will suscribe to a term deposit\n",
    "\n",
    "A term deposit is a cash investment held at a bank institution. The cash can only be withdrawn at the end of the period agreed upon or with a penalty fee of withdrawing early.\n",
    "\n",
    "## Input variables:\n",
    "\n",
    "### Bank client data:\n",
    "- age (numeric)\n",
    "- job : type of job  (categorical:\"admin.\",\"unknown\",\"unemployed\",\"management\",\"housemaid\",\"entrepreneur\",\"student\",\"blue collar\",\"self-employed\",\"retired\",\"technician\",\"services\")                                  \n",
    "- marital : marital status (categorical: \"married\",\"divorced\",\"single\"; note: \"divorced\" means divorced or widowed)<br>\n",
    "- education (categorical: \"unknown\",\"secondary\",\"primary\",\"tertiary\")<br>\n",
    "- default: has credit in default? (binary: \"yes\",\"no\")<br>\n",
    "- balance: average yearly balance, in euros (numeric) <br>\n",
    "- housing: has housing loan? (binary: \"yes\",\"no\")<br>\n",
    "- loan: has personal loan? (binary: \"yes\",\"no\")<br>\n",
    "### Related with the last contact of the current campaign:\n",
    "- contact: contact communication type (categorical: \"unknown\",\"telephone\",\"cellular\") <br>\n",
    "- day: last contact day of the month (numeric)<br>\n",
    "- month: last contact month of year (categorical: \"jan\", \"feb\", \"mar\", ..., \"nov\", \"dec\")<br>\n",
    "- duration: last contact duration, in seconds (numeric)<br>\n",
    "### Other attributes:\n",
    "- campaign: number of contacts performed during this campaign and for this client (numeric, includes last contact)<br>\n",
    "- pdays: number of days that passed by after the client was last contacted from a previous campaign (numeric, -1 means client was not previously contacted)<br>\n",
    "- previous: number of contacts performed before this campaign and for this client (numeric)<br>\n",
    "- poutcome: outcome of the previous marketing campaign (categorical: \"unknown\",\"other\",\"failure\",\"success\")<br>\n",
    "\n",
    "## Output variable (desired target):\n",
    "- y - has the client subscribed a term deposit? (binary: \"yes\",\"no\")<br>\n",
    "\n",
    "\n"
   ]
  },
  {
   "cell_type": "code",
   "execution_count": 1,
   "metadata": {
    "collapsed": true
   },
   "outputs": [],
   "source": [
    "#Formatting cells to Black\n",
    "%load_ext blackcellmagic"
   ]
  },
  {
   "cell_type": "code",
   "execution_count": 328,
   "metadata": {
    "collapsed": true
   },
   "outputs": [],
   "source": [
    "# Import relevant Python packages\n",
    "import numpy as np\n",
    "import pandas as pd\n",
    "import graphviz\n",
    "from sklearn import tree\n",
    "from sklearn.model_selection import train_test_split, cross_val_score\n",
    "from sklearn.ensemble import RandomForestClassifier\n",
    "from sklearn.tree import DecisionTreeClassifier \n",
    "from sklearn.metrics import accuracy_score , confusion_matrix\n",
    "from sklearn.linear_model import LogisticRegression\n",
    "from sklearn.preprocessing import LabelEncoder, OneHotEncoder\n",
    "from sklearn.neighbors import KNeighborsClassifier\n",
    "from sklearn.metrics import classification_report, confusion_matrix  \n",
    "from sklearn.utils import resample\n",
    "import matplotlib.pyplot as plt\n",
    "import seaborn as sns\n",
    "%matplotlib inline"
   ]
  },
  {
   "cell_type": "code",
   "execution_count": 329,
   "metadata": {},
   "outputs": [
    {
     "data": {
      "text/html": [
       "<div>\n",
       "<style>\n",
       "    .dataframe thead tr:only-child th {\n",
       "        text-align: right;\n",
       "    }\n",
       "\n",
       "    .dataframe thead th {\n",
       "        text-align: left;\n",
       "    }\n",
       "\n",
       "    .dataframe tbody tr th {\n",
       "        vertical-align: top;\n",
       "    }\n",
       "</style>\n",
       "<table border=\"1\" class=\"dataframe\">\n",
       "  <thead>\n",
       "    <tr style=\"text-align: right;\">\n",
       "      <th></th>\n",
       "      <th>age</th>\n",
       "      <th>job</th>\n",
       "      <th>marital</th>\n",
       "      <th>education</th>\n",
       "      <th>default</th>\n",
       "      <th>balance</th>\n",
       "      <th>housing</th>\n",
       "      <th>loan</th>\n",
       "      <th>contact</th>\n",
       "      <th>day</th>\n",
       "      <th>month</th>\n",
       "      <th>duration</th>\n",
       "      <th>campaign</th>\n",
       "      <th>pdays</th>\n",
       "      <th>previous</th>\n",
       "      <th>poutcome</th>\n",
       "      <th>y</th>\n",
       "    </tr>\n",
       "  </thead>\n",
       "  <tbody>\n",
       "    <tr>\n",
       "      <th>0</th>\n",
       "      <td>58</td>\n",
       "      <td>management</td>\n",
       "      <td>married</td>\n",
       "      <td>tertiary</td>\n",
       "      <td>no</td>\n",
       "      <td>2143</td>\n",
       "      <td>yes</td>\n",
       "      <td>no</td>\n",
       "      <td>unknown</td>\n",
       "      <td>5</td>\n",
       "      <td>may</td>\n",
       "      <td>261</td>\n",
       "      <td>1</td>\n",
       "      <td>-1</td>\n",
       "      <td>0</td>\n",
       "      <td>unknown</td>\n",
       "      <td>no</td>\n",
       "    </tr>\n",
       "    <tr>\n",
       "      <th>1</th>\n",
       "      <td>44</td>\n",
       "      <td>technician</td>\n",
       "      <td>single</td>\n",
       "      <td>secondary</td>\n",
       "      <td>no</td>\n",
       "      <td>29</td>\n",
       "      <td>yes</td>\n",
       "      <td>no</td>\n",
       "      <td>unknown</td>\n",
       "      <td>5</td>\n",
       "      <td>may</td>\n",
       "      <td>151</td>\n",
       "      <td>1</td>\n",
       "      <td>-1</td>\n",
       "      <td>0</td>\n",
       "      <td>unknown</td>\n",
       "      <td>no</td>\n",
       "    </tr>\n",
       "    <tr>\n",
       "      <th>2</th>\n",
       "      <td>33</td>\n",
       "      <td>entrepreneur</td>\n",
       "      <td>married</td>\n",
       "      <td>secondary</td>\n",
       "      <td>no</td>\n",
       "      <td>2</td>\n",
       "      <td>yes</td>\n",
       "      <td>yes</td>\n",
       "      <td>unknown</td>\n",
       "      <td>5</td>\n",
       "      <td>may</td>\n",
       "      <td>76</td>\n",
       "      <td>1</td>\n",
       "      <td>-1</td>\n",
       "      <td>0</td>\n",
       "      <td>unknown</td>\n",
       "      <td>no</td>\n",
       "    </tr>\n",
       "    <tr>\n",
       "      <th>3</th>\n",
       "      <td>47</td>\n",
       "      <td>blue-collar</td>\n",
       "      <td>married</td>\n",
       "      <td>unknown</td>\n",
       "      <td>no</td>\n",
       "      <td>1506</td>\n",
       "      <td>yes</td>\n",
       "      <td>no</td>\n",
       "      <td>unknown</td>\n",
       "      <td>5</td>\n",
       "      <td>may</td>\n",
       "      <td>92</td>\n",
       "      <td>1</td>\n",
       "      <td>-1</td>\n",
       "      <td>0</td>\n",
       "      <td>unknown</td>\n",
       "      <td>no</td>\n",
       "    </tr>\n",
       "    <tr>\n",
       "      <th>4</th>\n",
       "      <td>33</td>\n",
       "      <td>unknown</td>\n",
       "      <td>single</td>\n",
       "      <td>unknown</td>\n",
       "      <td>no</td>\n",
       "      <td>1</td>\n",
       "      <td>no</td>\n",
       "      <td>no</td>\n",
       "      <td>unknown</td>\n",
       "      <td>5</td>\n",
       "      <td>may</td>\n",
       "      <td>198</td>\n",
       "      <td>1</td>\n",
       "      <td>-1</td>\n",
       "      <td>0</td>\n",
       "      <td>unknown</td>\n",
       "      <td>no</td>\n",
       "    </tr>\n",
       "  </tbody>\n",
       "</table>\n",
       "</div>"
      ],
      "text/plain": [
       "   age           job  marital  education default  balance housing loan  \\\n",
       "0   58    management  married   tertiary      no     2143     yes   no   \n",
       "1   44    technician   single  secondary      no       29     yes   no   \n",
       "2   33  entrepreneur  married  secondary      no        2     yes  yes   \n",
       "3   47   blue-collar  married    unknown      no     1506     yes   no   \n",
       "4   33       unknown   single    unknown      no        1      no   no   \n",
       "\n",
       "   contact  day month  duration  campaign  pdays  previous poutcome   y  \n",
       "0  unknown    5   may       261         1     -1         0  unknown  no  \n",
       "1  unknown    5   may       151         1     -1         0  unknown  no  \n",
       "2  unknown    5   may        76         1     -1         0  unknown  no  \n",
       "3  unknown    5   may        92         1     -1         0  unknown  no  \n",
       "4  unknown    5   may       198         1     -1         0  unknown  no  "
      ]
     },
     "execution_count": 329,
     "metadata": {},
     "output_type": "execute_result"
    }
   ],
   "source": [
    "#Read in csv file which is seperated with \";\" from the website listed above\n",
    "df = pd.read_csv(\"bank/bank-full.csv\", sep =';')\n",
    "df.head()"
   ]
  },
  {
   "cell_type": "code",
   "execution_count": 330,
   "metadata": {},
   "outputs": [
    {
     "data": {
      "text/plain": [
       "(45211, 17)"
      ]
     },
     "execution_count": 330,
     "metadata": {},
     "output_type": "execute_result"
    }
   ],
   "source": [
    "df.shape"
   ]
  },
  {
   "cell_type": "code",
   "execution_count": 331,
   "metadata": {},
   "outputs": [
    {
     "data": {
      "image/png": "[encoded data removed]",
      "text/plain": [
       "<Figure size 432x288 with 1 Axes>"
      ]
     },
     "metadata": {},
     "output_type": "display_data"
    }
   ],
   "source": [
    "#General look at outcomes\n",
    "pd.value_counts(df['y']).plot.bar();"
   ]
  },
  {
   "cell_type": "code",
   "execution_count": 332,
   "metadata": {},
   "outputs": [
    {
     "data": {
      "text/plain": [
       "age          0\n",
       "job          0\n",
       "marital      0\n",
       "education    0\n",
       "default      0\n",
       "balance      0\n",
       "housing      0\n",
       "loan         0\n",
       "contact      0\n",
       "day          0\n",
       "month        0\n",
       "duration     0\n",
       "campaign     0\n",
       "pdays        0\n",
       "previous     0\n",
       "poutcome     0\n",
       "y            0\n",
       "dtype: int64"
      ]
     },
     "execution_count": 332,
     "metadata": {},
     "output_type": "execute_result"
    }
   ],
   "source": [
    "#Check if there are any null values in the dataset\n",
    "df.isnull().sum()"
   ]
  },
  {
   "cell_type": "markdown",
   "metadata": {},
   "source": [
    "# Data Wrangling\n",
    "- Cleaning up and preparing the data for analysis "
   ]
  },
  {
   "cell_type": "code",
   "execution_count": 333,
   "metadata": {
    "collapsed": true
   },
   "outputs": [],
   "source": [
    "#Going to Clean Dataset by only looking at known values\n",
    "df= df[df[\"contact\"]!=\"unknown\"]\n",
    "df = df[df[\"poutcome\"]!=\"unknown\"]\n",
    "df = df[df[\"job\"]!=\"unknown\"]"
   ]
  },
  {
   "cell_type": "code",
   "execution_count": 334,
   "metadata": {},
   "outputs": [
    {
     "data": {
      "text/plain": [
       "(8149, 17)"
      ]
     },
     "execution_count": 334,
     "metadata": {},
     "output_type": "execute_result"
    }
   ],
   "source": [
    "df.shape"
   ]
  },
  {
   "cell_type": "markdown",
   "metadata": {},
   "source": [
    "You can see that the data had been significantly decreased by doing this. Dropping around 30000 entries"
   ]
  },
  {
   "cell_type": "code",
   "execution_count": 335,
   "metadata": {},
   "outputs": [
    {
     "data": {
      "image/png": "[encoded data removed]",
      "text/plain": [
       "<Figure size 432x288 with 1 Axes>"
      ]
     },
     "metadata": {},
     "output_type": "display_data"
    }
   ],
   "source": [
    "#General look at the outcome counts of the dataset.\n",
    "pd.value_counts(df['y']).plot.bar();"
   ]
  },
  {
   "cell_type": "code",
   "execution_count": 336,
   "metadata": {},
   "outputs": [
    {
     "data": {
      "text/html": [
       "<div>\n",
       "<style>\n",
       "    .dataframe thead tr:only-child th {\n",
       "        text-align: right;\n",
       "    }\n",
       "\n",
       "    .dataframe thead th {\n",
       "        text-align: left;\n",
       "    }\n",
       "\n",
       "    .dataframe tbody tr th {\n",
       "        vertical-align: top;\n",
       "    }\n",
       "</style>\n",
       "<table border=\"1\" class=\"dataframe\">\n",
       "  <thead>\n",
       "    <tr style=\"text-align: right;\">\n",
       "      <th></th>\n",
       "      <th>age</th>\n",
       "      <th>job</th>\n",
       "      <th>marital</th>\n",
       "      <th>education</th>\n",
       "      <th>default</th>\n",
       "      <th>balance</th>\n",
       "      <th>housing</th>\n",
       "      <th>loan</th>\n",
       "      <th>contact</th>\n",
       "      <th>day</th>\n",
       "      <th>month</th>\n",
       "      <th>duration</th>\n",
       "      <th>campaign</th>\n",
       "      <th>pdays</th>\n",
       "      <th>previous</th>\n",
       "      <th>poutcome</th>\n",
       "      <th>y</th>\n",
       "    </tr>\n",
       "  </thead>\n",
       "  <tbody>\n",
       "    <tr>\n",
       "      <th>24060</th>\n",
       "      <td>33</td>\n",
       "      <td>admin.</td>\n",
       "      <td>married</td>\n",
       "      <td>tertiary</td>\n",
       "      <td>no</td>\n",
       "      <td>882</td>\n",
       "      <td>no</td>\n",
       "      <td>no</td>\n",
       "      <td>telephone</td>\n",
       "      <td>21</td>\n",
       "      <td>oct</td>\n",
       "      <td>39</td>\n",
       "      <td>1</td>\n",
       "      <td>151</td>\n",
       "      <td>3</td>\n",
       "      <td>failure</td>\n",
       "      <td>no</td>\n",
       "    </tr>\n",
       "    <tr>\n",
       "      <th>24062</th>\n",
       "      <td>42</td>\n",
       "      <td>admin.</td>\n",
       "      <td>single</td>\n",
       "      <td>secondary</td>\n",
       "      <td>no</td>\n",
       "      <td>-247</td>\n",
       "      <td>yes</td>\n",
       "      <td>yes</td>\n",
       "      <td>telephone</td>\n",
       "      <td>21</td>\n",
       "      <td>oct</td>\n",
       "      <td>519</td>\n",
       "      <td>1</td>\n",
       "      <td>166</td>\n",
       "      <td>1</td>\n",
       "      <td>other</td>\n",
       "      <td>yes</td>\n",
       "    </tr>\n",
       "    <tr>\n",
       "      <th>24064</th>\n",
       "      <td>33</td>\n",
       "      <td>services</td>\n",
       "      <td>married</td>\n",
       "      <td>secondary</td>\n",
       "      <td>no</td>\n",
       "      <td>3444</td>\n",
       "      <td>yes</td>\n",
       "      <td>no</td>\n",
       "      <td>telephone</td>\n",
       "      <td>21</td>\n",
       "      <td>oct</td>\n",
       "      <td>144</td>\n",
       "      <td>1</td>\n",
       "      <td>91</td>\n",
       "      <td>4</td>\n",
       "      <td>failure</td>\n",
       "      <td>yes</td>\n",
       "    </tr>\n",
       "    <tr>\n",
       "      <th>24072</th>\n",
       "      <td>36</td>\n",
       "      <td>management</td>\n",
       "      <td>married</td>\n",
       "      <td>tertiary</td>\n",
       "      <td>no</td>\n",
       "      <td>2415</td>\n",
       "      <td>yes</td>\n",
       "      <td>no</td>\n",
       "      <td>telephone</td>\n",
       "      <td>22</td>\n",
       "      <td>oct</td>\n",
       "      <td>73</td>\n",
       "      <td>1</td>\n",
       "      <td>86</td>\n",
       "      <td>4</td>\n",
       "      <td>other</td>\n",
       "      <td>no</td>\n",
       "    </tr>\n",
       "    <tr>\n",
       "      <th>24077</th>\n",
       "      <td>36</td>\n",
       "      <td>management</td>\n",
       "      <td>married</td>\n",
       "      <td>tertiary</td>\n",
       "      <td>no</td>\n",
       "      <td>0</td>\n",
       "      <td>yes</td>\n",
       "      <td>no</td>\n",
       "      <td>telephone</td>\n",
       "      <td>23</td>\n",
       "      <td>oct</td>\n",
       "      <td>140</td>\n",
       "      <td>1</td>\n",
       "      <td>143</td>\n",
       "      <td>3</td>\n",
       "      <td>failure</td>\n",
       "      <td>yes</td>\n",
       "    </tr>\n",
       "  </tbody>\n",
       "</table>\n",
       "</div>"
      ],
      "text/plain": [
       "       age         job  marital  education default  balance housing loan  \\\n",
       "24060   33      admin.  married   tertiary      no      882      no   no   \n",
       "24062   42      admin.   single  secondary      no     -247     yes  yes   \n",
       "24064   33    services  married  secondary      no     3444     yes   no   \n",
       "24072   36  management  married   tertiary      no     2415     yes   no   \n",
       "24077   36  management  married   tertiary      no        0     yes   no   \n",
       "\n",
       "         contact  day month  duration  campaign  pdays  previous poutcome    y  \n",
       "24060  telephone   21   oct        39         1    151         3  failure   no  \n",
       "24062  telephone   21   oct       519         1    166         1    other  yes  \n",
       "24064  telephone   21   oct       144         1     91         4  failure  yes  \n",
       "24072  telephone   22   oct        73         1     86         4    other   no  \n",
       "24077  telephone   23   oct       140         1    143         3  failure  yes  "
      ]
     },
     "execution_count": 336,
     "metadata": {},
     "output_type": "execute_result"
    }
   ],
   "source": [
    "#Creating a copy so that we can avoid error messages as well as not taint the \n",
    "#orignial data\n",
    "df2 = df.copy()\n",
    "df2.head()"
   ]
  },
  {
   "cell_type": "markdown",
   "metadata": {},
   "source": [
    "# Encoding Data\n",
    "- We are going to modify the dataset so that we can turn all the categorical and binary values into numbers.\n",
    "- We also going to turn the continous variables into discrete by looking at the ranges and dividing it up into bins"
   ]
  },
  {
   "cell_type": "code",
   "execution_count": 243,
   "metadata": {},
   "outputs": [
    {
     "data": {
      "image/png": "[encoded data removed]",
      "text/plain": [
       "<Figure size 432x288 with 1 Axes>"
      ]
     },
     "metadata": {},
     "output_type": "display_data"
    }
   ],
   "source": [
    "#First feature we are looking at is Age\n",
    "#Age is continuous and to help organized the data we can have it become categorical \n",
    "#by taking a look at the ranges\n",
    "#The boxplot will help divide the ages into subgroups\n",
    "sns.boxplot(x =\"age\", data = df2);"
   ]
  },
  {
   "cell_type": "code",
   "execution_count": 244,
   "metadata": {},
   "outputs": [
    {
     "data": {
      "text/plain": [
       "0.25    33.0\n",
       "0.50    38.0\n",
       "0.75    48.0\n",
       "1.00    93.0\n",
       "Name: age, dtype: float64"
      ]
     },
     "execution_count": 244,
     "metadata": {},
     "output_type": "execute_result"
    }
   ],
   "source": [
    "#Gets quantile values\n",
    "df2[\"age\"].quantile([0.25,0.50,0.75,1])"
   ]
  },
  {
   "cell_type": "code",
   "execution_count": 245,
   "metadata": {
    "collapsed": true
   },
   "outputs": [],
   "source": [
    "#Looking at the boxplot we can divide age into 4 categories and the values can \n",
    "#be seen below\n",
    "df2.loc[df2.age<33,\"age\"] = 1\n",
    "df2.loc[(df2.age>=33) & (df.age<48),\"age\"] = 2\n",
    "df2.loc[(df2.age>=48) & (df.age<70),\"age\"] = 3\n",
    "df2.loc[(df2.age>=70),\"age\"] = 4"
   ]
  },
  {
   "cell_type": "code",
   "execution_count": 300,
   "metadata": {
    "collapsed": true
   },
   "outputs": [],
   "source": [
    "# Tranforming the categorical variables into numbers can be done by LablelEncoder \n",
    "#a function from Scikit Learn\n",
    "df2['job']= LabelEncoder().fit_transform(df2['job']) \n",
    "df2['marital']= LabelEncoder().fit_transform(df2['marital']) \n",
    "df2['education']= LabelEncoder().fit_transform(df2['education']) \n",
    "df2['default']= LabelEncoder().fit_transform(df2['default']) \n",
    "df2['housing']= LabelEncoder().fit_transform(df2['housing']) \n",
    "df2['loan']= LabelEncoder().fit_transform(df2['loan']) \n",
    "df2['contact']= LabelEncoder().fit_transform(df2['contact'])\n",
    "df2[\"month\"]= LabelEncoder().fit_transform(df2['month'])\n",
    "df2[\"poutcome\"]= LabelEncoder().fit_transform(df2['poutcome'])"
   ]
  },
  {
   "cell_type": "code",
   "execution_count": 337,
   "metadata": {},
   "outputs": [
    {
     "data": {
      "image/png": "[encoded data removed]",
      "text/plain": [
       "<Figure size 432x288 with 1 Axes>"
      ]
     },
     "metadata": {},
     "output_type": "display_data"
    }
   ],
   "source": [
    "#Balance is continuous and to help organized the data we can have it become categorical\n",
    "#by taking a look at the ranges\n",
    "#The boxplot will help divide the balance into subgroups\n",
    "sns.boxplot(x =\"balance\", data = df2);"
   ]
  },
  {
   "cell_type": "code",
   "execution_count": 248,
   "metadata": {},
   "outputs": [
    {
     "data": {
      "text/plain": [
       "0.2      99.0\n",
       "0.4     395.2\n",
       "0.6     920.0\n",
       "0.8    2229.0\n",
       "Name: balance, dtype: float64"
      ]
     },
     "execution_count": 248,
     "metadata": {},
     "output_type": "execute_result"
    }
   ],
   "source": [
    "#Gets quantile values\n",
    "df2[\"balance\"].quantile([0.20,0.40,0.60,0.80])"
   ]
  },
  {
   "cell_type": "code",
   "execution_count": 249,
   "metadata": {},
   "outputs": [
    {
     "data": {
      "text/plain": [
       "-1884"
      ]
     },
     "execution_count": 249,
     "metadata": {},
     "output_type": "execute_result"
    }
   ],
   "source": [
    "df2[\"balance\"].min()"
   ]
  },
  {
   "cell_type": "code",
   "execution_count": 250,
   "metadata": {},
   "outputs": [
    {
     "data": {
      "text/plain": [
       "81204"
      ]
     },
     "execution_count": 250,
     "metadata": {},
     "output_type": "execute_result"
    }
   ],
   "source": [
    "df2[\"balance\"].max()"
   ]
  },
  {
   "cell_type": "code",
   "execution_count": 251,
   "metadata": {},
   "outputs": [
    {
     "data": {
      "text/plain": [
       "1559.7669652718125"
      ]
     },
     "execution_count": 251,
     "metadata": {},
     "output_type": "execute_result"
    }
   ],
   "source": [
    "df2[\"balance\"].mean()"
   ]
  },
  {
   "cell_type": "code",
   "execution_count": 253,
   "metadata": {},
   "outputs": [
    {
     "data": {
      "text/plain": [
       "3071.7854221100515"
      ]
     },
     "execution_count": 253,
     "metadata": {},
     "output_type": "execute_result"
    }
   ],
   "source": [
    "df2[\"balance\"].std()"
   ]
  },
  {
   "cell_type": "code",
   "execution_count": 254,
   "metadata": {
    "collapsed": true
   },
   "outputs": [],
   "source": [
    "#Looking at the boxplot and summary stats above we can divide age into 6 categories\n",
    "#and the values can be seen below\n",
    "df2.loc[df2.balance<=0,\"balance\"] = 1\n",
    "df2.loc[(df2.balance>0) & (df.balance<99),\"balance\"] = 2\n",
    "df2.loc[(df2.balance>=99) & (df.balance<395),\"balance\"] = 3\n",
    "df2.loc[(df2.balance>=395) & (df.balance<920),\"balance\"] = 4\n",
    "df2.loc[(df2.balance>=920) & (df.balance<2229),\"balance\"] = 5\n",
    "df2.loc[(df2.balance>=2229),\"balance\"] = 6"
   ]
  },
  {
   "cell_type": "code",
   "execution_count": 255,
   "metadata": {
    "collapsed": true
   },
   "outputs": [],
   "source": [
    "# We are going to create a new column for week.\n",
    "# Instead of having 30 different days we can see which week in the month might\n",
    "#have had a role and ignore the day\n",
    "df2.loc[df2.day<8,\"week\"] = 1\n",
    "df2.loc[(df2.day>=8) & (df.day<15),\"week\"] = 2\n",
    "df2.loc[(df2.day>=15) & (df.day<22),\"week\"] = 3\n",
    "df2.loc[(df2.day>=22),\"week\"] = 4"
   ]
  },
  {
   "cell_type": "code",
   "execution_count": 256,
   "metadata": {},
   "outputs": [
    {
     "data": {
      "image/png": "[encoded data removed]",
      "text/plain": [
       "<Figure size 432x288 with 1 Axes>"
      ]
     },
     "metadata": {},
     "output_type": "display_data"
    }
   ],
   "source": [
    "#Duration is continuous and to help organized the data we can have it become \n",
    "#categorical by taking a look at the ranges\n",
    "#The boxplot will help divide the duration into subgroups\n",
    "sns.boxplot(x =\"duration\", data = df2);"
   ]
  },
  {
   "cell_type": "code",
   "execution_count": 257,
   "metadata": {},
   "outputs": [
    {
     "data": {
      "text/plain": [
       "count    8149.000000\n",
       "mean      261.015094\n",
       "std       234.633346\n",
       "min         5.000000\n",
       "25%       113.000000\n",
       "50%       194.000000\n",
       "75%       325.000000\n",
       "max      2219.000000\n",
       "Name: duration, dtype: float64"
      ]
     },
     "execution_count": 257,
     "metadata": {},
     "output_type": "execute_result"
    }
   ],
   "source": [
    "df2[\"duration\"].describe()"
   ]
  },
  {
   "cell_type": "code",
   "execution_count": 258,
   "metadata": {
    "collapsed": true
   },
   "outputs": [],
   "source": [
    "#Looking at the boxplot and summary stats above we can divide age into 5 categories\n",
    "#and the values can be seen below\n",
    "df2.loc[df2.duration<113,\"duration\"] = 1\n",
    "df2.loc[(df2.duration>=113) & (df.duration<194),\"duration\"] = 2\n",
    "df2.loc[(df2.duration>=194) & (df.duration<325),\"duration\"] = 3\n",
    "df2.loc[(df2.duration>=325) & (df.duration<650),\"duration\"] = 4\n",
    "df2.loc[(df2.duration>=650),\"duration\"] = 5"
   ]
  },
  {
   "cell_type": "code",
   "execution_count": 259,
   "metadata": {},
   "outputs": [
    {
     "data": {
      "image/png": "[encoded data removed]",
      "text/plain": [
       "<Figure size 432x288 with 1 Axes>"
      ]
     },
     "metadata": {},
     "output_type": "display_data"
    }
   ],
   "source": [
    "#pdays is continuous and to help organized the data we can have it become categorical\n",
    "#by taking a look at the ranges\n",
    "#The boxplot will help divide the pdays into subgroups\n",
    "sns.boxplot(x =\"pdays\", data = df2);"
   ]
  },
  {
   "cell_type": "code",
   "execution_count": 260,
   "metadata": {},
   "outputs": [
    {
     "data": {
      "text/plain": [
       "count    8149.000000\n",
       "mean      222.944410\n",
       "std       111.688832\n",
       "min         1.000000\n",
       "25%       133.000000\n",
       "50%       194.000000\n",
       "75%       326.000000\n",
       "max       871.000000\n",
       "Name: pdays, dtype: float64"
      ]
     },
     "execution_count": 260,
     "metadata": {},
     "output_type": "execute_result"
    }
   ],
   "source": [
    "df2[\"pdays\"].describe()"
   ]
  },
  {
   "cell_type": "code",
   "execution_count": 261,
   "metadata": {
    "collapsed": true
   },
   "outputs": [],
   "source": [
    "#Looking at the boxplot and summary stats above we can divide age into 5 categories\n",
    "#and the values can be seen below\n",
    "df2.loc[df2.pdays<133,\"pdays\"] = 1\n",
    "df2.loc[(df2.pdays>=133) & (df.pdays<194),\"pdays\"] = 2\n",
    "df2.loc[(df2.pdays>=194) & (df.pdays<326),\"pdays\"] = 3\n",
    "df2.loc[(df2.pdays>=326) & (df.pdays<600),\"pdays\"] = 4\n",
    "df2.loc[(df2.pdays>=600),\"pdays\"] = 5"
   ]
  },
  {
   "cell_type": "code",
   "execution_count": 262,
   "metadata": {
    "collapsed": true
   },
   "outputs": [],
   "source": [
    "#Transform the output variable into numbers\n",
    "df2[\"y\"]= LabelEncoder().fit_transform(df2['y'])"
   ]
  },
  {
   "cell_type": "code",
   "execution_count": 263,
   "metadata": {},
   "outputs": [
    {
     "data": {
      "text/html": [
       "<div>\n",
       "<style>\n",
       "    .dataframe thead tr:only-child th {\n",
       "        text-align: right;\n",
       "    }\n",
       "\n",
       "    .dataframe thead th {\n",
       "        text-align: left;\n",
       "    }\n",
       "\n",
       "    .dataframe tbody tr th {\n",
       "        vertical-align: top;\n",
       "    }\n",
       "</style>\n",
       "<table border=\"1\" class=\"dataframe\">\n",
       "  <thead>\n",
       "    <tr style=\"text-align: right;\">\n",
       "      <th></th>\n",
       "      <th>age</th>\n",
       "      <th>job</th>\n",
       "      <th>marital</th>\n",
       "      <th>education</th>\n",
       "      <th>default</th>\n",
       "      <th>balance</th>\n",
       "      <th>housing</th>\n",
       "      <th>loan</th>\n",
       "      <th>contact</th>\n",
       "      <th>day</th>\n",
       "      <th>month</th>\n",
       "      <th>duration</th>\n",
       "      <th>campaign</th>\n",
       "      <th>pdays</th>\n",
       "      <th>previous</th>\n",
       "      <th>poutcome</th>\n",
       "      <th>y</th>\n",
       "      <th>week</th>\n",
       "    </tr>\n",
       "  </thead>\n",
       "  <tbody>\n",
       "    <tr>\n",
       "      <th>24060</th>\n",
       "      <td>2</td>\n",
       "      <td>0</td>\n",
       "      <td>1</td>\n",
       "      <td>2</td>\n",
       "      <td>0</td>\n",
       "      <td>4</td>\n",
       "      <td>0</td>\n",
       "      <td>0</td>\n",
       "      <td>1</td>\n",
       "      <td>21</td>\n",
       "      <td>10</td>\n",
       "      <td>1</td>\n",
       "      <td>1</td>\n",
       "      <td>2</td>\n",
       "      <td>3</td>\n",
       "      <td>0</td>\n",
       "      <td>0</td>\n",
       "      <td>3.0</td>\n",
       "    </tr>\n",
       "    <tr>\n",
       "      <th>24062</th>\n",
       "      <td>2</td>\n",
       "      <td>0</td>\n",
       "      <td>2</td>\n",
       "      <td>1</td>\n",
       "      <td>0</td>\n",
       "      <td>2</td>\n",
       "      <td>1</td>\n",
       "      <td>1</td>\n",
       "      <td>1</td>\n",
       "      <td>21</td>\n",
       "      <td>10</td>\n",
       "      <td>4</td>\n",
       "      <td>1</td>\n",
       "      <td>2</td>\n",
       "      <td>1</td>\n",
       "      <td>1</td>\n",
       "      <td>1</td>\n",
       "      <td>3.0</td>\n",
       "    </tr>\n",
       "    <tr>\n",
       "      <th>24064</th>\n",
       "      <td>2</td>\n",
       "      <td>7</td>\n",
       "      <td>1</td>\n",
       "      <td>1</td>\n",
       "      <td>0</td>\n",
       "      <td>6</td>\n",
       "      <td>1</td>\n",
       "      <td>0</td>\n",
       "      <td>1</td>\n",
       "      <td>21</td>\n",
       "      <td>10</td>\n",
       "      <td>2</td>\n",
       "      <td>1</td>\n",
       "      <td>1</td>\n",
       "      <td>4</td>\n",
       "      <td>0</td>\n",
       "      <td>1</td>\n",
       "      <td>3.0</td>\n",
       "    </tr>\n",
       "    <tr>\n",
       "      <th>24072</th>\n",
       "      <td>2</td>\n",
       "      <td>4</td>\n",
       "      <td>1</td>\n",
       "      <td>2</td>\n",
       "      <td>0</td>\n",
       "      <td>6</td>\n",
       "      <td>1</td>\n",
       "      <td>0</td>\n",
       "      <td>1</td>\n",
       "      <td>22</td>\n",
       "      <td>10</td>\n",
       "      <td>1</td>\n",
       "      <td>1</td>\n",
       "      <td>1</td>\n",
       "      <td>4</td>\n",
       "      <td>1</td>\n",
       "      <td>0</td>\n",
       "      <td>4.0</td>\n",
       "    </tr>\n",
       "    <tr>\n",
       "      <th>24077</th>\n",
       "      <td>2</td>\n",
       "      <td>4</td>\n",
       "      <td>1</td>\n",
       "      <td>2</td>\n",
       "      <td>0</td>\n",
       "      <td>2</td>\n",
       "      <td>1</td>\n",
       "      <td>0</td>\n",
       "      <td>1</td>\n",
       "      <td>23</td>\n",
       "      <td>10</td>\n",
       "      <td>2</td>\n",
       "      <td>1</td>\n",
       "      <td>2</td>\n",
       "      <td>3</td>\n",
       "      <td>0</td>\n",
       "      <td>1</td>\n",
       "      <td>4.0</td>\n",
       "    </tr>\n",
       "  </tbody>\n",
       "</table>\n",
       "</div>"
      ],
      "text/plain": [
       "       age  job  marital  education  default  balance  housing  loan  contact  \\\n",
       "24060    2    0        1          2        0        4        0     0        1   \n",
       "24062    2    0        2          1        0        2        1     1        1   \n",
       "24064    2    7        1          1        0        6        1     0        1   \n",
       "24072    2    4        1          2        0        6        1     0        1   \n",
       "24077    2    4        1          2        0        2        1     0        1   \n",
       "\n",
       "       day  month  duration  campaign  pdays  previous  poutcome  y  week  \n",
       "24060   21     10         1         1      2         3         0  0   3.0  \n",
       "24062   21     10         4         1      2         1         1  1   3.0  \n",
       "24064   21     10         2         1      1         4         0  1   3.0  \n",
       "24072   22     10         1         1      1         4         1  0   4.0  \n",
       "24077   23     10         2         1      2         3         0  1   4.0  "
      ]
     },
     "execution_count": 263,
     "metadata": {},
     "output_type": "execute_result"
    }
   ],
   "source": [
    "df2.head()"
   ]
  },
  {
   "cell_type": "code",
   "execution_count": 264,
   "metadata": {},
   "outputs": [
    {
     "data": {
      "image/png": "[encoded data removed]",
      "text/plain": [
       "<Figure size 432x288 with 1 Axes>"
      ]
     },
     "metadata": {},
     "output_type": "display_data"
    }
   ],
   "source": [
    "#Taking a look at the Counts we can see that we have an imbalanced dataset\n",
    "#with the outcomes\n",
    "pd.value_counts(df2['y']).plot.bar();"
   ]
  },
  {
   "cell_type": "markdown",
   "metadata": {},
   "source": [
    "# Results and Conclusion\n",
    "\n",
    "- We are going to see what the results are like when running the Random Forest Classifier on both an imbalanced and balanced dataset."
   ]
  },
  {
   "cell_type": "code",
   "execution_count": 265,
   "metadata": {
    "collapsed": true
   },
   "outputs": [],
   "source": [
    "# Puts together all the feature variables\n",
    "features = list(df2.columns)"
   ]
  },
  {
   "cell_type": "code",
   "execution_count": 266,
   "metadata": {
    "collapsed": true
   },
   "outputs": [],
   "source": [
    "features.remove(\"y\")\n",
    "features.remove(\"day\")"
   ]
  },
  {
   "cell_type": "code",
   "execution_count": 267,
   "metadata": {},
   "outputs": [
    {
     "data": {
      "text/plain": [
       "['age',\n",
       " 'job',\n",
       " 'marital',\n",
       " 'education',\n",
       " 'default',\n",
       " 'balance',\n",
       " 'housing',\n",
       " 'loan',\n",
       " 'contact',\n",
       " 'month',\n",
       " 'duration',\n",
       " 'campaign',\n",
       " 'pdays',\n",
       " 'previous',\n",
       " 'poutcome',\n",
       " 'week']"
      ]
     },
     "execution_count": 267,
     "metadata": {},
     "output_type": "execute_result"
    }
   ],
   "source": [
    "#List of Features we are going to be looking at\n",
    "features"
   ]
  },
  {
   "cell_type": "code",
   "execution_count": 268,
   "metadata": {
    "collapsed": true
   },
   "outputs": [],
   "source": [
    "X = df2[features].values # Feature variables\n",
    "Y = df2.y # Outcome Variable"
   ]
  },
  {
   "cell_type": "code",
   "execution_count": 269,
   "metadata": {
    "collapsed": true
   },
   "outputs": [],
   "source": [
    "# Splitting our Data using train_test_split \n",
    "X_train, X_test, y_train, y_test = train_test_split(X, Y,test_size = 0.20)"
   ]
  },
  {
   "cell_type": "code",
   "execution_count": 270,
   "metadata": {
    "collapsed": true
   },
   "outputs": [],
   "source": [
    "# Assigning Random Forest to the Classifier\n",
    "clf = RandomForestClassifier(n_estimators = 200, criterion = 'entropy', random_state = 12, \n",
    "                             max_depth=3)"
   ]
  },
  {
   "cell_type": "code",
   "execution_count": 271,
   "metadata": {
    "collapsed": true
   },
   "outputs": [],
   "source": [
    "#Doing a 10 folds cross Validation Report\n",
    "N_folds_cross_validation= 10\n",
    "\n",
    "def print_cross_validation_report(classifier, data, classes, \n",
    "                                  N_folds_cross_validation):\n",
    "    '''\n",
    "    Inputs: Classfier, data, Number for N-Folds\n",
    "    \n",
    "    Output: Accuracy, F1, Precision, Recall\n",
    "    '''\n",
    "    #First print out the accuracy score...\n",
    "    accuracy = cross_val_score(classifier,\n",
    "                               data,\n",
    "                               classes,\n",
    "                               scoring='accuracy',\n",
    "                               cv=N_folds_cross_validation)\n",
    "    print(\"         Accuracy: %0.2f%% (+/- %0.2f%%)\" % (round(100*accuracy.mean(),2), \\\n",
    "                          round(100*accuracy.std(), 2) * 2))\n",
    "\n",
    "    #Next, print out the F1-Score...\n",
    "    f1 = cross_val_score(classifier,\n",
    "                         data,\n",
    "                         classes,\n",
    "                         scoring='f1_weighted',\n",
    "                         cv=N_folds_cross_validation)\n",
    "    print(\"         F1-Score: %0.2f%% (+/- %0.2f%%)\" % (round(100*f1.mean(),2), \\\n",
    "                          round(100*f1.std(), 2) * 2))\n",
    "    \n",
    "    #Then the precision...\n",
    "    precision = cross_val_score(classifier,\n",
    "                                data,\n",
    "                                classes,\n",
    "                                scoring='precision_weighted',\n",
    "                                cv=N_folds_cross_validation)\n",
    "    print(\"        Precision: %0.2f%% (+/- %0.2f%%)\" % (round(100*precision.mean(),2), \\\n",
    "                          round(100*precision.std(), 2) * 2))\n",
    "\n",
    "    #And finally, the recall...\n",
    "    recall = cross_val_score(classifier,\n",
    "                             data,\n",
    "                             classes,\n",
    "                             scoring='recall_weighted',\n",
    "                             cv=N_folds_cross_validation)\n",
    "    print(\"           Recall: %0.2f%% (+/- %0.2f%%)\" % (round(100*recall.mean(),2), \\\n",
    "                          round(100*recall.std(), 2) * 2))\n",
    "    "
   ]
  },
  {
   "cell_type": "code",
   "execution_count": 272,
   "metadata": {
    "collapsed": true
   },
   "outputs": [],
   "source": [
    "#Fit the model onto the training set\n",
    "clf.fit(X_train, y_train);"
   ]
  },
  {
   "cell_type": "code",
   "execution_count": 273,
   "metadata": {},
   "outputs": [
    {
     "name": "stdout",
     "output_type": "stream",
     "text": [
      "\n",
      "\n",
      "======== CLASSIFIER ACCURACY REPORT ========\n",
      "      (10-Fold Cross-Validation Study)\n",
      "\n",
      "         Accuracy: 82.50% (+/- 2.94%)\n",
      "         F1-Score: 79.58% (+/- 3.60%)\n",
      "        Precision: 82.13% (+/- 4.42%)\n",
      "           Recall: 82.50% (+/- 2.94%)\n",
      "\n",
      "\n",
      " MEAN ACCURACY ON TEST DATA: 83.93%\n"
     ]
    }
   ],
   "source": [
    "#Run The 10-Fold \n",
    "print(\"\\n\\n======== CLASSIFIER ACCURACY REPORT ========\")\n",
    "print(\"      (%d-Fold Cross-Validation Study)\\n\"%(N_folds_cross_validation))\n",
    "print_cross_validation_report(clf,\n",
    "                              X_train,\n",
    "                              y_train,\n",
    "                              N_folds_cross_validation)\n",
    "\n",
    "#Look at the accuracy of the data on the test set\n",
    "mean_accuracy = clf.score(X_test, y_test)\n",
    "\n",
    "\n",
    "print(\"\\n\\n MEAN ACCURACY ON TEST DATA: %5.2f%%\" %(round(100.0*mean_accuracy, 2)))"
   ]
  },
  {
   "cell_type": "code",
   "execution_count": 274,
   "metadata": {
    "collapsed": true
   },
   "outputs": [],
   "source": [
    "#Get Prediction results\n",
    "y_pred= clf.predict(X_test)"
   ]
  },
  {
   "cell_type": "code",
   "execution_count": 275,
   "metadata": {},
   "outputs": [
    {
     "data": {
      "text/plain": [
       "array([[1253,   19],\n",
       "       [ 243,  115]])"
      ]
     },
     "execution_count": 275,
     "metadata": {},
     "output_type": "execute_result"
    }
   ],
   "source": [
    "# The Confusion Matrix, Lookst True Positive, True Negative, \n",
    "#False Positive, False Negative \n",
    "confusion_matrix(y_test,y_pred)"
   ]
  },
  {
   "cell_type": "markdown",
   "metadata": {},
   "source": [
    "## Results on Imbalanced Dataset\n",
    "\n",
    "When looking at the results of the imbalanced dataset you can see all the scores are high and this is because the data is more likely to guess that the client will not suscribe to the term deposit.\n",
    "\n",
    "This is shown by the confusion matrix above. The True Positive rate is 1253 while the True Negative is 115. "
   ]
  },
  {
   "cell_type": "code",
   "execution_count": 302,
   "metadata": {},
   "outputs": [
    {
     "data": {
      "text/plain": [
       "0    6274\n",
       "1    1875\n",
       "Name: y, dtype: int64"
      ]
     },
     "execution_count": 302,
     "metadata": {},
     "output_type": "execute_result"
    }
   ],
   "source": [
    "df2.y.value_counts()"
   ]
  },
  {
   "cell_type": "markdown",
   "metadata": {},
   "source": [
    "## Creating Balanced Dataset\n",
    "\n",
    "To Create a balanced data set I will be doing Up-Sampling. This will randomly duplicate data from the minority class which in this scenario is suscribing to a term deposit. \n",
    "\n",
    "To learn more about this I used this website as a reference: <https://elitedatascience.com/imbalanced-classes>"
   ]
  },
  {
   "cell_type": "code",
   "execution_count": 288,
   "metadata": {
    "collapsed": true
   },
   "outputs": [],
   "source": [
    "# Assigning majority and minority \n",
    "df2_majority = df2[df2.y==0]\n",
    "df2_minority = df2[df2.y==1]"
   ]
  },
  {
   "cell_type": "code",
   "execution_count": 289,
   "metadata": {
    "collapsed": true
   },
   "outputs": [],
   "source": [
    "# Resample function will create more values of the minority\n",
    "df2_minority_upsampled = resample(df2_minority, \n",
    "                                 replace=True,  \n",
    "                                 n_samples=6274,    \n",
    "                                 random_state=123) "
   ]
  },
  {
   "cell_type": "code",
   "execution_count": 290,
   "metadata": {
    "collapsed": true
   },
   "outputs": [],
   "source": [
    "# We now will combine the datasets so we have an equal number of classes\n",
    "df2_upsampled = pd.concat([df2_majority, df2_minority_upsampled])"
   ]
  },
  {
   "cell_type": "code",
   "execution_count": 291,
   "metadata": {},
   "outputs": [
    {
     "data": {
      "text/plain": [
       "1    6274\n",
       "0    6274\n",
       "Name: y, dtype: int64"
      ]
     },
     "execution_count": 291,
     "metadata": {},
     "output_type": "execute_result"
    }
   ],
   "source": [
    "# This is to confirm the equal number of outcomes\n",
    "df2_upsampled.y.value_counts()"
   ]
  },
  {
   "cell_type": "code",
   "execution_count": 292,
   "metadata": {
    "collapsed": true
   },
   "outputs": [],
   "source": [
    "X2 = df2_upsampled[features].values # Feature variables\n",
    "Y2 = df2_upsampled.y"
   ]
  },
  {
   "cell_type": "code",
   "execution_count": 293,
   "metadata": {
    "collapsed": true
   },
   "outputs": [],
   "source": [
    "# Splitting our Data using train_test_split \n",
    "X_train, X_test, y_train, y_test = train_test_split(X2, Y2,test_size = 0.20)"
   ]
  },
  {
   "cell_type": "code",
   "execution_count": 294,
   "metadata": {
    "collapsed": true
   },
   "outputs": [],
   "source": [
    "clf.fit(X_train, y_train);"
   ]
  },
  {
   "cell_type": "code",
   "execution_count": 295,
   "metadata": {},
   "outputs": [
    {
     "name": "stdout",
     "output_type": "stream",
     "text": [
      "\n",
      "\n",
      "======== CLASSIFIER ACCURACY REPORT ========\n",
      "      (10-Fold Cross-Validation Study)\n",
      "\n",
      "         Accuracy: 78.31% (+/- 2.44%)\n",
      "         F1-Score: 78.28% (+/- 2.44%)\n",
      "        Precision: 78.48% (+/- 2.52%)\n",
      "           Recall: 78.31% (+/- 2.44%)\n",
      "\n",
      "\n",
      " MEAN ACCURACY ON TEST DATA: 77.65%\n"
     ]
    }
   ],
   "source": [
    "print(\"\\n\\n======== CLASSIFIER ACCURACY REPORT ========\")\n",
    "print(\"      (%d-Fold Cross-Validation Study)\\n\"%(N_folds_cross_validation))\n",
    "print_cross_validation_report(clf,\n",
    "                              X_train,\n",
    "                              y_train,\n",
    "                              N_folds_cross_validation)\n",
    "\n",
    "mean_accuracy = clf.score(X_test, y_test)\n",
    "\n",
    "print(\"\\n\\n MEAN ACCURACY ON TEST DATA: %5.2f%%\" %(round(100.0*mean_accuracy, 2)))"
   ]
  },
  {
   "cell_type": "code",
   "execution_count": 296,
   "metadata": {
    "collapsed": true
   },
   "outputs": [],
   "source": [
    "y_pred= clf.predict(X_test)"
   ]
  },
  {
   "cell_type": "code",
   "execution_count": 297,
   "metadata": {},
   "outputs": [
    {
     "data": {
      "text/plain": [
       "array([[985, 266],\n",
       "       [295, 964]])"
      ]
     },
     "execution_count": 297,
     "metadata": {},
     "output_type": "execute_result"
    }
   ],
   "source": [
    "confusion_matrix(y_test,y_pred)"
   ]
  },
  {
   "cell_type": "markdown",
   "metadata": {},
   "source": [
    "## Results of Balanced Dataset\n",
    "\n",
    "You can now see the accuracy has fallen to 77%. With the confusion matrix having equal samples in each category as well. Overall we were able to build a predictive model with a good accuracy rate. We can now confirm that we can determine whether or not a client is likely to suscribe to a term deposit."
   ]
  },
  {
   "cell_type": "code",
   "execution_count": 299,
   "metadata": {},
   "outputs": [
    {
     "data": {
      "image/png": "[encoded data removed]",
      "text/plain": [
       "<Figure size 864x864 with 1 Axes>"
      ]
     },
     "metadata": {},
     "output_type": "display_data"
    }
   ],
   "source": [
    "# Code to see which features are important. \n",
    "#Appending the values and then plotting it to get a visual\n",
    "xvals = range(len(features))\n",
    "important = clf.feature_importances_ # list of feature importances\n",
    "indices = np.argsort(important)\n",
    "features_sorted = []\n",
    "\n",
    "for i in range(len(indices)):\n",
    "    features_sorted.append(features[indices[i]])\n",
    "fig = plt.figure(figsize=[12,12])\n",
    "plt.title(\"Feature Importances\")\n",
    "plt.barh(xvals, important[indices], tick_label=features_sorted)\n",
    "plt.show() "
   ]
  },
  {
   "cell_type": "markdown",
   "metadata": {},
   "source": [
    "# Discussion\n",
    "\n",
    "As you can see above when doing the random forest classifier the 3 most important features were poutcome, housing, and duration.\n",
    "\n",
    "It makes sense that the past outcome plays the biggest role in determining whether or not a client would suscribe to a term deposit. As shown with the graph below the people that said no previously are more likely to say no again while the people that said yes before are more likely to say yes again.\n",
    "\n",
    "Duration also makes sense in that if the phone call lasted longer they are more likely to suscribe to a term deposit because they are interested with the marketing of it. \n",
    "\n",
    "Housing was interesting in that people with a housing loan are not likely to suscribe to a term deposit. This makes sense with the fact that people with housing loans don't have extra money for an investment\n",
    "\n",
    "Overall looking at the results a predictive model can be made to see a client will suscrible to a term deposit"
   ]
  },
  {
   "cell_type": "code",
   "execution_count": 327,
   "metadata": {},
   "outputs": [
    {
     "data": {
      "image/png": "[encoded data removed]",
      "text/plain": [
       "<Figure size 432x288 with 1 Axes>"
      ]
     },
     "metadata": {},
     "output_type": "display_data"
    }
   ],
   "source": [
    "sns.countplot(x =\"poutcome\", hue =\"y\", data=df);"
   ]
  },
  {
   "cell_type": "code",
   "execution_count": 317,
   "metadata": {},
   "outputs": [
    {
     "data": {
      "image/png": "[encoded data removed]",
      "text/plain": [
       "<Figure size 432x288 with 1 Axes>"
      ]
     },
     "metadata": {},
     "output_type": "display_data"
    }
   ],
   "source": [
    "sns.countplot(x =\"duration\", hue =\"y\", data=df2);"
   ]
  },
  {
   "cell_type": "code",
   "execution_count": 318,
   "metadata": {},
   "outputs": [
    {
     "data": {
      "image/png": "[encoded data removed]",
      "text/plain": [
       "<Figure size 432x288 with 1 Axes>"
      ]
     },
     "metadata": {},
     "output_type": "display_data"
    }
   ],
   "source": [
    "sns.countplot(x =\"housing\", hue =\"y\", data=df);"
   ]
  },
  {
   "cell_type": "code",
   "execution_count": 314,
   "metadata": {},
   "outputs": [
    {
     "data": {
      "image/png": "[encoded data removed]",
      "text/plain": [
       "<Figure size 432x288 with 1 Axes>"
      ]
     },
     "metadata": {},
     "output_type": "display_data"
    }
   ],
   "source": [
    "sns.countplot(x =\"education\", hue =\"y\", data=df);"
   ]
  },
  {
   "cell_type": "code",
   "execution_count": 321,
   "metadata": {},
   "outputs": [
    {
     "data": {
      "image/png": "[encoded data removed]",
      "text/plain": [
       "<Figure size 432x288 with 1 Axes>"
      ]
     },
     "metadata": {},
     "output_type": "display_data"
    }
   ],
   "source": [
    "sns.countplot(x =\"age\", hue =\"y\", data=df2);"
   ]
  }
 ],
 "metadata": {
  "kernelspec": {
   "display_name": "Python 3",
   "language": "python",
   "name": "python3"
  },
  "language_info": {
   "codemirror_mode": {
    "name": "ipython",
    "version": 3
   },
   "file_extension": ".py",
   "mimetype": "text/x-python",
   "name": "python",
   "nbconvert_exporter": "python",
   "pygments_lexer": "ipython3",
   "version": "3.6.8"
  }
 },
 "nbformat": 4,
 "nbformat_minor": 2
}
